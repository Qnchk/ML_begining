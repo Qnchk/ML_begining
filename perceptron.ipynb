{
 "cells": [
  {
   "cell_type": "code",
   "execution_count": 2,
   "id": "40418fc7",
   "metadata": {},
   "outputs": [],
   "source": [
    "import numpy as np\n",
    "import os \n",
    "import pandas as pd\n",
    "import matplotlib.pyplot as plt \n"
   ]
  },
  {
   "cell_type": "code",
   "execution_count": 109,
   "id": "13017029",
   "metadata": {},
   "outputs": [],
   "source": [
    "import numpy as np\n",
    "\n",
    "\n",
    "class Perceptron(object):\n",
    "\n",
    "  \n",
    "    def __init__(self, training_speed=0.01, gen=50, random_state=1):\n",
    "        \"\"\"\n",
    "            training_speed - скорость тренироки\n",
    "            random_state - свободный вес для начального распределения весов\n",
    "            gen - количество поколений для тренировки\n",
    "        \"\"\"\n",
    "        self.training_speed = training_speed\n",
    "        self.gen = gen\n",
    "        self.random_state = random_state\n",
    "\n",
    "    def fit(self, train_x, train_y):\n",
    "        \"\"\"\n",
    "            train_x - входные тренировочные данные\n",
    "            train_y - \"учитель\" для сверки результата и подгона параметров\n",
    "        \n",
    "        \"\"\"\n",
    "        \n",
    "        #рандомное заполнение весов \n",
    "        rgen = np.random.RandomState(self.random_state)\n",
    "        self.w = rgen.normal(loc=0.0, scale=0.01, size=1 + train_x.shape[1])\n",
    "        self.err = []\n",
    "\n",
    "        for _ in range(self.gen):\n",
    "            err_n = 0 #кол-во ошибок в данном поколении \n",
    "            for xi, target in zip(train_x, train_y):\n",
    "                update = self.training_speed * (target - self.predict(xi))\n",
    "                self.w[1:] += update * xi\n",
    "                self.w[0] += update\n",
    "                err_n += int(update != 0.0)\n",
    "            self.err.append(err_n )\n",
    "        return self\n",
    "\n",
    "    #вычисляет входное значение\n",
    "    def net_input(self, train_x):\n",
    "        return np.dot(train_x, self.w[1:]) + self.w[0]\n",
    "    #возвращает класс 1 или -1 уже для любых данных \n",
    "    def predict(self, train_x):\n",
    "        return np.where(self.net_input(train_x) >= 0.0, 1, -1)"
   ]
  },
  {
   "cell_type": "code",
   "execution_count": 21,
   "id": "2cbdc702",
   "metadata": {
    "scrolled": false
   },
   "outputs": [
    {
     "data": {
      "text/html": [
       "<div>\n",
       "<style scoped>\n",
       "    .dataframe tbody tr th:only-of-type {\n",
       "        vertical-align: middle;\n",
       "    }\n",
       "\n",
       "    .dataframe tbody tr th {\n",
       "        vertical-align: top;\n",
       "    }\n",
       "\n",
       "    .dataframe thead th {\n",
       "        text-align: right;\n",
       "    }\n",
       "</style>\n",
       "<table border=\"1\" class=\"dataframe\">\n",
       "  <thead>\n",
       "    <tr style=\"text-align: right;\">\n",
       "      <th></th>\n",
       "      <th>sepal.length</th>\n",
       "      <th>sepal.width</th>\n",
       "      <th>petal.length</th>\n",
       "      <th>petal.width</th>\n",
       "      <th>variety</th>\n",
       "    </tr>\n",
       "  </thead>\n",
       "  <tbody>\n",
       "    <tr>\n",
       "      <th>0</th>\n",
       "      <td>5.1</td>\n",
       "      <td>3.5</td>\n",
       "      <td>1.4</td>\n",
       "      <td>0.2</td>\n",
       "      <td>Setosa</td>\n",
       "    </tr>\n",
       "    <tr>\n",
       "      <th>1</th>\n",
       "      <td>4.9</td>\n",
       "      <td>3.0</td>\n",
       "      <td>1.4</td>\n",
       "      <td>0.2</td>\n",
       "      <td>Setosa</td>\n",
       "    </tr>\n",
       "    <tr>\n",
       "      <th>2</th>\n",
       "      <td>4.7</td>\n",
       "      <td>3.2</td>\n",
       "      <td>1.3</td>\n",
       "      <td>0.2</td>\n",
       "      <td>Setosa</td>\n",
       "    </tr>\n",
       "    <tr>\n",
       "      <th>3</th>\n",
       "      <td>4.6</td>\n",
       "      <td>3.1</td>\n",
       "      <td>1.5</td>\n",
       "      <td>0.2</td>\n",
       "      <td>Setosa</td>\n",
       "    </tr>\n",
       "    <tr>\n",
       "      <th>4</th>\n",
       "      <td>5.0</td>\n",
       "      <td>3.6</td>\n",
       "      <td>1.4</td>\n",
       "      <td>0.2</td>\n",
       "      <td>Setosa</td>\n",
       "    </tr>\n",
       "    <tr>\n",
       "      <th>...</th>\n",
       "      <td>...</td>\n",
       "      <td>...</td>\n",
       "      <td>...</td>\n",
       "      <td>...</td>\n",
       "      <td>...</td>\n",
       "    </tr>\n",
       "    <tr>\n",
       "      <th>145</th>\n",
       "      <td>6.7</td>\n",
       "      <td>3.0</td>\n",
       "      <td>5.2</td>\n",
       "      <td>2.3</td>\n",
       "      <td>Virginica</td>\n",
       "    </tr>\n",
       "    <tr>\n",
       "      <th>146</th>\n",
       "      <td>6.3</td>\n",
       "      <td>2.5</td>\n",
       "      <td>5.0</td>\n",
       "      <td>1.9</td>\n",
       "      <td>Virginica</td>\n",
       "    </tr>\n",
       "    <tr>\n",
       "      <th>147</th>\n",
       "      <td>6.5</td>\n",
       "      <td>3.0</td>\n",
       "      <td>5.2</td>\n",
       "      <td>2.0</td>\n",
       "      <td>Virginica</td>\n",
       "    </tr>\n",
       "    <tr>\n",
       "      <th>148</th>\n",
       "      <td>6.2</td>\n",
       "      <td>3.4</td>\n",
       "      <td>5.4</td>\n",
       "      <td>2.3</td>\n",
       "      <td>Virginica</td>\n",
       "    </tr>\n",
       "    <tr>\n",
       "      <th>149</th>\n",
       "      <td>5.9</td>\n",
       "      <td>3.0</td>\n",
       "      <td>5.1</td>\n",
       "      <td>1.8</td>\n",
       "      <td>Virginica</td>\n",
       "    </tr>\n",
       "  </tbody>\n",
       "</table>\n",
       "<p>150 rows × 5 columns</p>\n",
       "</div>"
      ],
      "text/plain": [
       "     sepal.length  sepal.width  petal.length  petal.width    variety\n",
       "0             5.1          3.5           1.4          0.2     Setosa\n",
       "1             4.9          3.0           1.4          0.2     Setosa\n",
       "2             4.7          3.2           1.3          0.2     Setosa\n",
       "3             4.6          3.1           1.5          0.2     Setosa\n",
       "4             5.0          3.6           1.4          0.2     Setosa\n",
       "..            ...          ...           ...          ...        ...\n",
       "145           6.7          3.0           5.2          2.3  Virginica\n",
       "146           6.3          2.5           5.0          1.9  Virginica\n",
       "147           6.5          3.0           5.2          2.0  Virginica\n",
       "148           6.2          3.4           5.4          2.3  Virginica\n",
       "149           5.9          3.0           5.1          1.8  Virginica\n",
       "\n",
       "[150 rows x 5 columns]"
      ]
     },
     "execution_count": 21,
     "metadata": {},
     "output_type": "execute_result"
    }
   ],
   "source": [
    "#dataset с цветками\n",
    "data = pd.read_csv('https://gist.githubusercontent.com/netj/8836201/raw/6f9306ad21398ea43cba4f7d537619d0e07d5ae3/iris.csv')\n",
    "data\n",
    "\n",
    "\n",
    "\n"
   ]
  },
  {
   "cell_type": "code",
   "execution_count": 116,
   "id": "0e99e763",
   "metadata": {
    "scrolled": true
   },
   "outputs": [
    {
     "data": {
      "image/png": "[encoded data removed]",
      "text/plain": [
       "<Figure size 432x288 with 1 Axes>"
      ]
     },
     "metadata": {
      "needs_background": "light"
     },
     "output_type": "display_data"
    }
   ],
   "source": [
    "#Визуализация данных\n",
    "\n",
    "x  = data.loc[(data.variety=='Setosa')]\n",
    "y = data.loc[(data.variety=='Virginica')]\n",
    "# x - данные для цветков типа Setosa\n",
    "# y - данные для цветков типа Virginica\n",
    "\n",
    "\n",
    "#создаем пары точек для построения графика \n",
    "x_d = x.loc[:,['sepal.length','petal.length']].values\n",
    "y_d = y.loc[:,['sepal.length','petal.length']].values \n",
    "\n",
    "\n",
    "#строим данные \n",
    "plt.scatter(x_d[:,0], x_d[:,1],color='red',marker='o',label='Low')\n",
    "plt.scatter(y_d[:,0], y_d[:,1],color='blue',marker='4',label='High')\n",
    "plt.xlabel('sepal_length')\n",
    "plt.ylabel('petal_length')\n",
    "plt.legend(loc='upper left')\n",
    "plt.show()\n",
    "\n",
    "\n"
   ]
  },
  {
   "cell_type": "code",
   "execution_count": 103,
   "id": "4a3ec001",
   "metadata": {},
   "outputs": [],
   "source": [
    "#разделение данных на тренировку и валидацию\n",
    "train_x = data.loc[0:100,['sepal.length','petal.length']].values\n",
    "\n",
    "train_y = data.loc[0:100,'variety'].values\n",
    "train_y = np.where(train_y == 'Setosa',1,-1)\n",
    "val_x = data.loc[101:150,['sepal.length','petal.length']].values\n",
    "val_y = data.loc[101:150,'variety'].values\n",
    "val_y = np.where(val_y == 'Setosa', 1,-1)\n",
    "\n",
    "\n",
    "#train_x, train_y - данные для тренировки\n",
    "#val_x val_y - данные, которые модель еще не видела, \n",
    "#на них можно проверить то, как модель обучилась"
   ]
  },
  {
   "cell_type": "code",
   "execution_count": 112,
   "id": "32ea494a",
   "metadata": {},
   "outputs": [
    {
     "data": {
      "image/png": "[encoded data removed]",
      "text/plain": [
       "<Figure size 432x288 with 1 Axes>"
      ]
     },
     "metadata": {
      "needs_background": "light"
     },
     "output_type": "display_data"
    }
   ],
   "source": [
    "#обучение персцептрона\n",
    "model = Perceptron(training_speed=0.1,gen=10)\n",
    "model.fit(train_x,train_y)\n",
    "plt.plot(range(1,len(model.err)+1),model.err,marker='o')\n",
    "plt.xlabel('Поколение')\n",
    "plt.ylabel ('Кол-во ошибок')\n",
    "plt.show()\n"
   ]
  },
  {
   "cell_type": "code",
   "execution_count": 114,
   "id": "871b6a65",
   "metadata": {},
   "outputs": [
    {
     "data": {
      "image/png": "[encoded data removed]",
      "text/plain": [
       "<Figure size 432x288 with 1 Axes>"
      ]
     },
     "metadata": {
      "needs_background": "light"
     },
     "output_type": "display_data"
    }
   ],
   "source": [
    "#проверка модели после обучения\n",
    "model = Perceptron(training_speed=0.1,gen=10)\n",
    "model.fit(val_x,val_y)\n",
    "plt.plot(range(1,len(model.err)+1),model.err,marker='o')\n",
    "plt.xlabel('Поколение')\n",
    "plt.ylabel ('Кол-во ошибок')\n",
    "plt.show()"
   ]
  },
  {
   "cell_type": "code",
   "execution_count": null,
   "id": "5243e73d",
   "metadata": {},
   "outputs": [],
   "source": []
  },
  {
   "cell_type": "code",
   "execution_count": null,
   "id": "113480b0",
   "metadata": {},
   "outputs": [],
   "source": []
  }
 ],
 "metadata": {
  "kernelspec": {
   "display_name": "Python 3 (ipykernel)",
   "language": "python",
   "name": "python3"
  },
  "language_info": {
   "codemirror_mode": {
    "name": "ipython",
    "version": 3
   },
   "file_extension": ".py",
   "mimetype": "text/x-python",
   "name": "python",
   "nbconvert_exporter": "python",
   "pygments_lexer": "ipython3",
   "version": "3.9.7"
  }
 },
 "nbformat": 4,
 "nbformat_minor": 5
}
